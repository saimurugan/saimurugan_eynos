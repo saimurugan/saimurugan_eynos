{
 "cells": [
  {
   "cell_type": "markdown",
   "metadata": {},
   "source": [
    "# IMPORTING PACKAGES"
   ]
  },
  {
   "cell_type": "code",
   "execution_count": 1,
   "metadata": {},
   "outputs": [],
   "source": [
    "import pandas as pd\n",
    "import matplotlib.pyplot as plt\n",
    "import seaborn as sns\n",
    "import numpy as np\n",
    "from scipy.stats import norm\n",
    "from sklearn.preprocessing import StandardScaler\n",
    "from scipy import stats\n",
    "import warnings\n",
    "warnings.filterwarnings('ignore')\n",
    "%matplotlib inline"
   ]
  },
  {
   "cell_type": "markdown",
   "metadata": {},
   "source": [
    "# READ THE FILE AS DATA"
   ]
  },
  {
   "cell_type": "code",
   "execution_count": 2,
   "metadata": {},
   "outputs": [],
   "source": [
    "data=pd.read_table(\"data_file.tsv\",sep='\\t')"
   ]
  },
  {
   "cell_type": "code",
   "execution_count": 3,
   "metadata": {},
   "outputs": [
    {
     "data": {
      "text/plain": [
       "(61460, 16)"
      ]
     },
     "execution_count": 3,
     "metadata": {},
     "output_type": "execute_result"
    }
   ],
   "source": [
    "# TO KNOW THE NOF ROWS AND COLUMNS\n",
    "data.shape"
   ]
  },
  {
   "cell_type": "code",
   "execution_count": 4,
   "metadata": {},
   "outputs": [
    {
     "data": {
      "text/plain": [
       "tax_id                                     int64\n",
       "GeneID                                     int64\n",
       "Symbol                                    object\n",
       "LocusTag                                  object\n",
       "Synonyms                                  object\n",
       "dbXrefs                                   object\n",
       "chromosome                                object\n",
       "map_location                              object\n",
       "description                               object\n",
       "type_of_gene                              object\n",
       "Symbol_from_nomenclature_authority        object\n",
       "Full_name_from_nomenclature_authority     object\n",
       "Nomenclature_status                       object\n",
       "Other_designations                        object\n",
       "Modification_date                        float64\n",
       "Feature_type                              object\n",
       "dtype: object"
      ]
     },
     "execution_count": 4,
     "metadata": {},
     "output_type": "execute_result"
    }
   ],
   "source": [
    "data.dtypes# TO KNOW THE VALUE TYPES OF COLUMNS"
   ]
  },
  {
   "cell_type": "code",
   "execution_count": 5,
   "metadata": {},
   "outputs": [
    {
     "data": {
      "text/html": [
       "<div>\n",
       "<style scoped>\n",
       "    .dataframe tbody tr th:only-of-type {\n",
       "        vertical-align: middle;\n",
       "    }\n",
       "\n",
       "    .dataframe tbody tr th {\n",
       "        vertical-align: top;\n",
       "    }\n",
       "\n",
       "    .dataframe thead th {\n",
       "        text-align: right;\n",
       "    }\n",
       "</style>\n",
       "<table border=\"1\" class=\"dataframe\">\n",
       "  <thead>\n",
       "    <tr style=\"text-align: right;\">\n",
       "      <th></th>\n",
       "      <th>tax_id</th>\n",
       "      <th>GeneID</th>\n",
       "      <th>Symbol</th>\n",
       "      <th>LocusTag</th>\n",
       "      <th>Synonyms</th>\n",
       "      <th>dbXrefs</th>\n",
       "      <th>chromosome</th>\n",
       "      <th>map_location</th>\n",
       "      <th>description</th>\n",
       "      <th>type_of_gene</th>\n",
       "      <th>Symbol_from_nomenclature_authority</th>\n",
       "      <th>Full_name_from_nomenclature_authority</th>\n",
       "      <th>Nomenclature_status</th>\n",
       "      <th>Other_designations</th>\n",
       "      <th>Modification_date</th>\n",
       "      <th>Feature_type</th>\n",
       "    </tr>\n",
       "  </thead>\n",
       "  <tbody>\n",
       "    <tr>\n",
       "      <th>0</th>\n",
       "      <td>9606</td>\n",
       "      <td>1</td>\n",
       "      <td>A1BG</td>\n",
       "      <td>-</td>\n",
       "      <td>A1B|ABG|GAB|HYST2477</td>\n",
       "      <td>MIM:138670|HGNC:HGNC:5|Ensembl:ENSG00000121410</td>\n",
       "      <td>19</td>\n",
       "      <td>19q13.43</td>\n",
       "      <td>alpha-1-B glycoprotein</td>\n",
       "      <td>protein-coding</td>\n",
       "      <td>A1BG</td>\n",
       "      <td>alpha-1-B glycoprotein</td>\n",
       "      <td>O</td>\n",
       "      <td>alpha-1B-glycoprotein|HEL-S-163pA|epididymis s...</td>\n",
       "      <td>20181208.0</td>\n",
       "      <td>-</td>\n",
       "    </tr>\n",
       "    <tr>\n",
       "      <th>1</th>\n",
       "      <td>9606</td>\n",
       "      <td>2</td>\n",
       "      <td>A2M</td>\n",
       "      <td>-</td>\n",
       "      <td>A2MD|CPAMD5|FWP007|S863-7</td>\n",
       "      <td>MIM:103950|HGNC:HGNC:7|Ensembl:ENSG00000175899</td>\n",
       "      <td>12</td>\n",
       "      <td>12p13.31</td>\n",
       "      <td>alpha-2-macroglobulin</td>\n",
       "      <td>protein-coding</td>\n",
       "      <td>A2M</td>\n",
       "      <td>alpha-2-macroglobulin</td>\n",
       "      <td>O</td>\n",
       "      <td>alpha-2-macroglobulin|C3 and PZP-like alpha-2-...</td>\n",
       "      <td>20181229.0</td>\n",
       "      <td>-</td>\n",
       "    </tr>\n",
       "    <tr>\n",
       "      <th>2</th>\n",
       "      <td>9606</td>\n",
       "      <td>3</td>\n",
       "      <td>A2MP1</td>\n",
       "      <td>-</td>\n",
       "      <td>A2MP</td>\n",
       "      <td>HGNC:HGNC:8|Ensembl:ENSG00000256069</td>\n",
       "      <td>12</td>\n",
       "      <td>12p13.31</td>\n",
       "      <td>alpha-2-macroglobulin pseudogene 1</td>\n",
       "      <td>pseudo</td>\n",
       "      <td>A2MP1</td>\n",
       "      <td>alpha-2-macroglobulin pseudogene 1</td>\n",
       "      <td>O</td>\n",
       "      <td>pregnancy-zone protein pseudogene</td>\n",
       "      <td>20180329.0</td>\n",
       "      <td>-</td>\n",
       "    </tr>\n",
       "    <tr>\n",
       "      <th>3</th>\n",
       "      <td>9606</td>\n",
       "      <td>9</td>\n",
       "      <td>NAT1</td>\n",
       "      <td>-</td>\n",
       "      <td>AAC1|MNAT|NAT-1|NATI</td>\n",
       "      <td>MIM:108345|HGNC:HGNC:7645|Ensembl:ENSG00000171428</td>\n",
       "      <td>8</td>\n",
       "      <td>8p22</td>\n",
       "      <td>N-acetyltransferase 1</td>\n",
       "      <td>protein-coding</td>\n",
       "      <td>NAT1</td>\n",
       "      <td>N-acetyltransferase 1</td>\n",
       "      <td>O</td>\n",
       "      <td>arylamine N-acetyltransferase 1|N-acetyltransf...</td>\n",
       "      <td>20181207.0</td>\n",
       "      <td>-</td>\n",
       "    </tr>\n",
       "    <tr>\n",
       "      <th>4</th>\n",
       "      <td>9606</td>\n",
       "      <td>10</td>\n",
       "      <td>NAT2</td>\n",
       "      <td>-</td>\n",
       "      <td>AAC2|NAT-2|PNAT</td>\n",
       "      <td>MIM:612182|HGNC:HGNC:7646|Ensembl:ENSG00000156006</td>\n",
       "      <td>8</td>\n",
       "      <td>8p22</td>\n",
       "      <td>N-acetyltransferase 2</td>\n",
       "      <td>protein-coding</td>\n",
       "      <td>NAT2</td>\n",
       "      <td>N-acetyltransferase 2</td>\n",
       "      <td>O</td>\n",
       "      <td>arylamine N-acetyltransferase 2|N-acetyltransf...</td>\n",
       "      <td>20181223.0</td>\n",
       "      <td>-</td>\n",
       "    </tr>\n",
       "  </tbody>\n",
       "</table>\n",
       "</div>"
      ],
      "text/plain": [
       "   tax_id  GeneID Symbol LocusTag                   Synonyms  \\\n",
       "0    9606       1   A1BG        -       A1B|ABG|GAB|HYST2477   \n",
       "1    9606       2    A2M        -  A2MD|CPAMD5|FWP007|S863-7   \n",
       "2    9606       3  A2MP1        -                       A2MP   \n",
       "3    9606       9   NAT1        -       AAC1|MNAT|NAT-1|NATI   \n",
       "4    9606      10   NAT2        -            AAC2|NAT-2|PNAT   \n",
       "\n",
       "                                             dbXrefs chromosome map_location  \\\n",
       "0     MIM:138670|HGNC:HGNC:5|Ensembl:ENSG00000121410         19     19q13.43   \n",
       "1     MIM:103950|HGNC:HGNC:7|Ensembl:ENSG00000175899         12     12p13.31   \n",
       "2                HGNC:HGNC:8|Ensembl:ENSG00000256069         12     12p13.31   \n",
       "3  MIM:108345|HGNC:HGNC:7645|Ensembl:ENSG00000171428          8         8p22   \n",
       "4  MIM:612182|HGNC:HGNC:7646|Ensembl:ENSG00000156006          8         8p22   \n",
       "\n",
       "                          description    type_of_gene  \\\n",
       "0              alpha-1-B glycoprotein  protein-coding   \n",
       "1               alpha-2-macroglobulin  protein-coding   \n",
       "2  alpha-2-macroglobulin pseudogene 1          pseudo   \n",
       "3               N-acetyltransferase 1  protein-coding   \n",
       "4               N-acetyltransferase 2  protein-coding   \n",
       "\n",
       "  Symbol_from_nomenclature_authority Full_name_from_nomenclature_authority  \\\n",
       "0                               A1BG                alpha-1-B glycoprotein   \n",
       "1                                A2M                 alpha-2-macroglobulin   \n",
       "2                              A2MP1    alpha-2-macroglobulin pseudogene 1   \n",
       "3                               NAT1                 N-acetyltransferase 1   \n",
       "4                               NAT2                 N-acetyltransferase 2   \n",
       "\n",
       "  Nomenclature_status                                 Other_designations  \\\n",
       "0                   O  alpha-1B-glycoprotein|HEL-S-163pA|epididymis s...   \n",
       "1                   O  alpha-2-macroglobulin|C3 and PZP-like alpha-2-...   \n",
       "2                   O                  pregnancy-zone protein pseudogene   \n",
       "3                   O  arylamine N-acetyltransferase 1|N-acetyltransf...   \n",
       "4                   O  arylamine N-acetyltransferase 2|N-acetyltransf...   \n",
       "\n",
       "   Modification_date Feature_type  \n",
       "0         20181208.0            -  \n",
       "1         20181229.0            -  \n",
       "2         20180329.0            -  \n",
       "3         20181207.0            -  \n",
       "4         20181223.0            -  "
      ]
     },
     "execution_count": 5,
     "metadata": {},
     "output_type": "execute_result"
    }
   ],
   "source": [
    "data.head()# TO VIEW TOP LINES OF CODE"
   ]
  },
  {
   "cell_type": "code",
   "execution_count": 6,
   "metadata": {},
   "outputs": [
    {
     "data": {
      "text/plain": [
       "tax_id                                   0\n",
       "GeneID                                   0\n",
       "Symbol                                   0\n",
       "LocusTag                                 0\n",
       "Synonyms                                 0\n",
       "dbXrefs                                  4\n",
       "chromosome                               4\n",
       "map_location                             4\n",
       "description                              4\n",
       "type_of_gene                             4\n",
       "Symbol_from_nomenclature_authority       4\n",
       "Full_name_from_nomenclature_authority    4\n",
       "Nomenclature_status                      4\n",
       "Other_designations                       4\n",
       "Modification_date                        9\n",
       "Feature_type                             9\n",
       "dtype: int64"
      ]
     },
     "execution_count": 6,
     "metadata": {},
     "output_type": "execute_result"
    }
   ],
   "source": [
    "data.isnull().sum()# TO KNOW THE COUNT OF NULL VALUES"
   ]
  },
  {
   "cell_type": "code",
   "execution_count": 7,
   "metadata": {},
   "outputs": [
    {
     "data": {
      "text/plain": [
       "count     61456\n",
       "unique    43622\n",
       "top           -\n",
       "freq      17831\n",
       "Name: dbXrefs, dtype: object"
      ]
     },
     "execution_count": 7,
     "metadata": {},
     "output_type": "execute_result"
    }
   ],
   "source": [
    "data['dbXrefs'].describe()"
   ]
  },
  {
   "cell_type": "code",
   "execution_count": 8,
   "metadata": {},
   "outputs": [],
   "source": [
    "data.dropna(inplace=True)# DROP THE NULL VALUES"
   ]
  },
  {
   "cell_type": "code",
   "execution_count": 9,
   "metadata": {},
   "outputs": [],
   "source": [
    "new = data[\"dbXrefs\"].str.split(\"|\", n = 2, expand = True) #SPLIT THE IDENTIFIERS "
   ]
  },
  {
   "cell_type": "code",
   "execution_count": 10,
   "metadata": {},
   "outputs": [],
   "source": [
    "data[\"entries\"]= new[0] #SPLITED IDENTIFIERS ADDED AS NEW COLUMNS IN DATASET AS ENTRIES"
   ]
  },
  {
   "cell_type": "code",
   "execution_count": 11,
   "metadata": {},
   "outputs": [
    {
     "data": {
      "text/html": [
       "<div>\n",
       "<style scoped>\n",
       "    .dataframe tbody tr th:only-of-type {\n",
       "        vertical-align: middle;\n",
       "    }\n",
       "\n",
       "    .dataframe tbody tr th {\n",
       "        vertical-align: top;\n",
       "    }\n",
       "\n",
       "    .dataframe thead th {\n",
       "        text-align: right;\n",
       "    }\n",
       "</style>\n",
       "<table border=\"1\" class=\"dataframe\">\n",
       "  <thead>\n",
       "    <tr style=\"text-align: right;\">\n",
       "      <th></th>\n",
       "      <th>tax_id</th>\n",
       "      <th>GeneID</th>\n",
       "      <th>Symbol</th>\n",
       "      <th>LocusTag</th>\n",
       "      <th>Synonyms</th>\n",
       "      <th>dbXrefs</th>\n",
       "      <th>chromosome</th>\n",
       "      <th>map_location</th>\n",
       "      <th>description</th>\n",
       "      <th>type_of_gene</th>\n",
       "      <th>Symbol_from_nomenclature_authority</th>\n",
       "      <th>Full_name_from_nomenclature_authority</th>\n",
       "      <th>Nomenclature_status</th>\n",
       "      <th>Other_designations</th>\n",
       "      <th>Modification_date</th>\n",
       "      <th>Feature_type</th>\n",
       "      <th>entries</th>\n",
       "    </tr>\n",
       "  </thead>\n",
       "  <tbody>\n",
       "    <tr>\n",
       "      <th>0</th>\n",
       "      <td>9606</td>\n",
       "      <td>1</td>\n",
       "      <td>A1BG</td>\n",
       "      <td>-</td>\n",
       "      <td>A1B|ABG|GAB|HYST2477</td>\n",
       "      <td>MIM:138670|HGNC:HGNC:5|Ensembl:ENSG00000121410</td>\n",
       "      <td>19</td>\n",
       "      <td>19q13.43</td>\n",
       "      <td>alpha-1-B glycoprotein</td>\n",
       "      <td>protein-coding</td>\n",
       "      <td>A1BG</td>\n",
       "      <td>alpha-1-B glycoprotein</td>\n",
       "      <td>O</td>\n",
       "      <td>alpha-1B-glycoprotein|HEL-S-163pA|epididymis s...</td>\n",
       "      <td>20181208.0</td>\n",
       "      <td>-</td>\n",
       "      <td>MIM:138670</td>\n",
       "    </tr>\n",
       "    <tr>\n",
       "      <th>1</th>\n",
       "      <td>9606</td>\n",
       "      <td>2</td>\n",
       "      <td>A2M</td>\n",
       "      <td>-</td>\n",
       "      <td>A2MD|CPAMD5|FWP007|S863-7</td>\n",
       "      <td>MIM:103950|HGNC:HGNC:7|Ensembl:ENSG00000175899</td>\n",
       "      <td>12</td>\n",
       "      <td>12p13.31</td>\n",
       "      <td>alpha-2-macroglobulin</td>\n",
       "      <td>protein-coding</td>\n",
       "      <td>A2M</td>\n",
       "      <td>alpha-2-macroglobulin</td>\n",
       "      <td>O</td>\n",
       "      <td>alpha-2-macroglobulin|C3 and PZP-like alpha-2-...</td>\n",
       "      <td>20181229.0</td>\n",
       "      <td>-</td>\n",
       "      <td>MIM:103950</td>\n",
       "    </tr>\n",
       "    <tr>\n",
       "      <th>2</th>\n",
       "      <td>9606</td>\n",
       "      <td>3</td>\n",
       "      <td>A2MP1</td>\n",
       "      <td>-</td>\n",
       "      <td>A2MP</td>\n",
       "      <td>HGNC:HGNC:8|Ensembl:ENSG00000256069</td>\n",
       "      <td>12</td>\n",
       "      <td>12p13.31</td>\n",
       "      <td>alpha-2-macroglobulin pseudogene 1</td>\n",
       "      <td>pseudo</td>\n",
       "      <td>A2MP1</td>\n",
       "      <td>alpha-2-macroglobulin pseudogene 1</td>\n",
       "      <td>O</td>\n",
       "      <td>pregnancy-zone protein pseudogene</td>\n",
       "      <td>20180329.0</td>\n",
       "      <td>-</td>\n",
       "      <td>HGNC:HGNC:8</td>\n",
       "    </tr>\n",
       "    <tr>\n",
       "      <th>3</th>\n",
       "      <td>9606</td>\n",
       "      <td>9</td>\n",
       "      <td>NAT1</td>\n",
       "      <td>-</td>\n",
       "      <td>AAC1|MNAT|NAT-1|NATI</td>\n",
       "      <td>MIM:108345|HGNC:HGNC:7645|Ensembl:ENSG00000171428</td>\n",
       "      <td>8</td>\n",
       "      <td>8p22</td>\n",
       "      <td>N-acetyltransferase 1</td>\n",
       "      <td>protein-coding</td>\n",
       "      <td>NAT1</td>\n",
       "      <td>N-acetyltransferase 1</td>\n",
       "      <td>O</td>\n",
       "      <td>arylamine N-acetyltransferase 1|N-acetyltransf...</td>\n",
       "      <td>20181207.0</td>\n",
       "      <td>-</td>\n",
       "      <td>MIM:108345</td>\n",
       "    </tr>\n",
       "    <tr>\n",
       "      <th>4</th>\n",
       "      <td>9606</td>\n",
       "      <td>10</td>\n",
       "      <td>NAT2</td>\n",
       "      <td>-</td>\n",
       "      <td>AAC2|NAT-2|PNAT</td>\n",
       "      <td>MIM:612182|HGNC:HGNC:7646|Ensembl:ENSG00000156006</td>\n",
       "      <td>8</td>\n",
       "      <td>8p22</td>\n",
       "      <td>N-acetyltransferase 2</td>\n",
       "      <td>protein-coding</td>\n",
       "      <td>NAT2</td>\n",
       "      <td>N-acetyltransferase 2</td>\n",
       "      <td>O</td>\n",
       "      <td>arylamine N-acetyltransferase 2|N-acetyltransf...</td>\n",
       "      <td>20181223.0</td>\n",
       "      <td>-</td>\n",
       "      <td>MIM:612182</td>\n",
       "    </tr>\n",
       "  </tbody>\n",
       "</table>\n",
       "</div>"
      ],
      "text/plain": [
       "   tax_id  GeneID Symbol LocusTag                   Synonyms  \\\n",
       "0    9606       1   A1BG        -       A1B|ABG|GAB|HYST2477   \n",
       "1    9606       2    A2M        -  A2MD|CPAMD5|FWP007|S863-7   \n",
       "2    9606       3  A2MP1        -                       A2MP   \n",
       "3    9606       9   NAT1        -       AAC1|MNAT|NAT-1|NATI   \n",
       "4    9606      10   NAT2        -            AAC2|NAT-2|PNAT   \n",
       "\n",
       "                                             dbXrefs chromosome map_location  \\\n",
       "0     MIM:138670|HGNC:HGNC:5|Ensembl:ENSG00000121410         19     19q13.43   \n",
       "1     MIM:103950|HGNC:HGNC:7|Ensembl:ENSG00000175899         12     12p13.31   \n",
       "2                HGNC:HGNC:8|Ensembl:ENSG00000256069         12     12p13.31   \n",
       "3  MIM:108345|HGNC:HGNC:7645|Ensembl:ENSG00000171428          8         8p22   \n",
       "4  MIM:612182|HGNC:HGNC:7646|Ensembl:ENSG00000156006          8         8p22   \n",
       "\n",
       "                          description    type_of_gene  \\\n",
       "0              alpha-1-B glycoprotein  protein-coding   \n",
       "1               alpha-2-macroglobulin  protein-coding   \n",
       "2  alpha-2-macroglobulin pseudogene 1          pseudo   \n",
       "3               N-acetyltransferase 1  protein-coding   \n",
       "4               N-acetyltransferase 2  protein-coding   \n",
       "\n",
       "  Symbol_from_nomenclature_authority Full_name_from_nomenclature_authority  \\\n",
       "0                               A1BG                alpha-1-B glycoprotein   \n",
       "1                                A2M                 alpha-2-macroglobulin   \n",
       "2                              A2MP1    alpha-2-macroglobulin pseudogene 1   \n",
       "3                               NAT1                 N-acetyltransferase 1   \n",
       "4                               NAT2                 N-acetyltransferase 2   \n",
       "\n",
       "  Nomenclature_status                                 Other_designations  \\\n",
       "0                   O  alpha-1B-glycoprotein|HEL-S-163pA|epididymis s...   \n",
       "1                   O  alpha-2-macroglobulin|C3 and PZP-like alpha-2-...   \n",
       "2                   O                  pregnancy-zone protein pseudogene   \n",
       "3                   O  arylamine N-acetyltransferase 1|N-acetyltransf...   \n",
       "4                   O  arylamine N-acetyltransferase 2|N-acetyltransf...   \n",
       "\n",
       "   Modification_date Feature_type      entries  \n",
       "0         20181208.0            -   MIM:138670  \n",
       "1         20181229.0            -   MIM:103950  \n",
       "2         20180329.0            -  HGNC:HGNC:8  \n",
       "3         20181207.0            -   MIM:108345  \n",
       "4         20181223.0            -   MIM:612182  "
      ]
     },
     "execution_count": 11,
     "metadata": {},
     "output_type": "execute_result"
    }
   ],
   "source": [
    "data.head()"
   ]
  },
  {
   "cell_type": "markdown",
   "metadata": {},
   "source": []
  },
  {
   "cell_type": "code",
   "execution_count": 12,
   "metadata": {},
   "outputs": [],
   "source": [
    "#data['entries'].value_counts().plot(kind='bar')"
   ]
  },
  {
   "cell_type": "code",
   "execution_count": 13,
   "metadata": {},
   "outputs": [
    {
     "data": {
      "text/plain": [
       "<matplotlib.axes._subplots.AxesSubplot at 0x278801486d8>"
      ]
     },
     "execution_count": 13,
     "metadata": {},
     "output_type": "execute_result"
    },
    {
     "data": {
      "image/png": "[encoded data removed]",
      "text/plain": [
       "<Figure size 432x288 with 1 Axes>"
      ]
     },
     "metadata": {
      "needs_background": "light"
     },
     "output_type": "display_data"
    }
   ],
   "source": [
    "gr=data.groupby('chromosome').entries.count()\n",
    "gr.plot(kind='bar')# to view the counts of chromosome of regarding to entries"
   ]
  },
  {
   "cell_type": "code",
   "execution_count": 14,
   "metadata": {},
   "outputs": [
    {
     "data": {
      "image/png": "[encoded data removed]",
      "text/plain": [
       "<Figure size 432x288 with 1 Axes>"
      ]
     },
     "metadata": {
      "needs_background": "light"
     },
     "output_type": "display_data"
    }
   ],
   "source": [
    "gr1=sns.countplot(data=data,x='type_of_gene')#to view the no of type of code for entries"
   ]
  },
  {
   "cell_type": "markdown",
   "metadata": {},
   "source": [
    "# Displaying the type of gene  which are pseudo and no of entries and values and their respective chromosomes"
   ]
  },
  {
   "cell_type": "code",
   "execution_count": 15,
   "metadata": {},
   "outputs": [
    {
     "data": {
      "text/plain": [
       "entries                  chromosome\n",
       "-                        X             266\n",
       "                         1             265\n",
       "                         2             241\n",
       "                         5             213\n",
       "                         7             202\n",
       "                         4             171\n",
       "                         11            151\n",
       "                         6             150\n",
       "                         15            139\n",
       "                         12            138\n",
       "                         8             138\n",
       "                         9             128\n",
       "                         3             121\n",
       "                         16            115\n",
       "                         19            103\n",
       "                         17             95\n",
       "                         22             83\n",
       "                         14             80\n",
       "                         18             52\n",
       "                         20             38\n",
       "                         Un             30\n",
       "                         10             28\n",
       "                         21             27\n",
       "                         13             10\n",
       "                         Y               7\n",
       "                         X|Y             2\n",
       "Ensembl:ENSG00000146722  7               1\n",
       "Ensembl:ENSG00000152117  2               1\n",
       "Ensembl:ENSG00000161103  22              1\n",
       "Ensembl:ENSG00000169164  X               1\n",
       "                                      ... \n",
       "MIM:612875               1               1\n",
       "MIM:612970               1               1\n",
       "MIM:613042               8               1\n",
       "MIM:613043               8               1\n",
       "MIM:613044               8               1\n",
       "MIM:613045               8               1\n",
       "MIM:613046               8               1\n",
       "MIM:613047               8               1\n",
       "MIM:613048               8               1\n",
       "MIM:613049               8               1\n",
       "MIM:613050               8               1\n",
       "MIM:613051               8               1\n",
       "MIM:613052               8               1\n",
       "MIM:613053               8               1\n",
       "MIM:613054               8               1\n",
       "MIM:613531               9               1\n",
       "MIM:613592               6               1\n",
       "MIM:613995               1               1\n",
       "MIM:614705               1               1\n",
       "MIM:615174               8               1\n",
       "MIM:615581               4               1\n",
       "MIM:615714               6               1\n",
       "MIM:615772               17              1\n",
       "MIM:615805               16              1\n",
       "MIM:616077               20              1\n",
       "MIM:616121               11              1\n",
       "MIM:616392               1               1\n",
       "MIM:616612               3               1\n",
       "MIM:617386               1               1\n",
       "MIM:618026               1               1\n",
       "Name: chromosome, Length: 13468, dtype: int64"
      ]
     },
     "execution_count": 15,
     "metadata": {},
     "output_type": "execute_result"
    }
   ],
   "source": [
    "g22=data[data['type_of_gene']=='pseudo'].groupby('entries').chromosome.value_counts()\n",
    "g22\n"
   ]
  },
  {
   "cell_type": "code",
   "execution_count": null,
   "metadata": {},
   "outputs": [],
   "source": []
  },
  {
   "cell_type": "code",
   "execution_count": null,
   "metadata": {},
   "outputs": [],
   "source": []
  }
 ],
 "metadata": {
  "kernelspec": {
   "display_name": "Python 3",
   "language": "python",
   "name": "python3"
  },
  "language_info": {
   "codemirror_mode": {
    "name": "ipython",
    "version": 3
   },
   "file_extension": ".py",
   "mimetype": "text/x-python",
   "name": "python",
   "nbconvert_exporter": "python",
   "pygments_lexer": "ipython3",
   "version": "3.7.0"
  }
 },
 "nbformat": 4,
 "nbformat_minor": 2
}
